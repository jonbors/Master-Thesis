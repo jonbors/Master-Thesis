{
 "cells": [
  {
   "cell_type": "markdown",
   "metadata": {},
   "source": [
    "# Master Thesis - Particle Swarm Optimization with constraints - Implementation (Numerical Scheme)"
   ]
  },
  {
   "cell_type": "markdown",
   "metadata": {},
   "source": []
  },
  {
   "cell_type": "code",
   "execution_count": 6,
   "metadata": {},
   "outputs": [],
   "source": [
    "import numpy as np"
   ]
  },
  {
   "cell_type": "markdown",
   "metadata": {},
   "source": [
    "The equations of motion for particle swarm optimization are obtained by adding the interaction, friction, exploration, and constraint terms and this can be written in continuous time formulation as\n",
    "\\begin{equation}\n",
    "\\begin{aligned}\n",
    "    dX^i(t) &= V^i(t)dt \\\\\n",
    "    dV^i(t) &= -\\lambda(X^i(t)-\\overline{X}(t))dt - \\gamma V_i(t)dt+\\sigma(t)dB^i(t) +dR(t),\n",
    "\\end{aligned}\n",
    "\\end{equation}\n",
    "where $dR(t)$ is defined as \n",
    "\\begin{equation}\n",
    "    dR(t) = -2\\braket{n(X^i(t)),V^i(t)}n(X^i(t))I_{\\partial G}(X(t)),\n",
    "\\end{equation}\n",
    " $\\lambda$ and $\\gamma$ are hyper-parameters which will be tested in a range and evaluated using a success rate \n",
    "\\begin{equation}\n",
    "    ||X_{min}-X^*|| < 0.2\n",
    "\\end{equation}\n",
    "Where $X^*$ is the collapsed ensamble value of the positions. Collapsed means that all particles have converged to the same position, which is inevitable if the global minimum has been found due to the interaction term."
   ]
  },
  {
   "cell_type": "markdown",
   "metadata": {},
   "source": [
    "To use these SDEs for numerical simulations they have to be rewritten in discrete time formulation. This is done by way of Euler-Maruyama scheme shown in equation \\eqref{eq:discrete} to obtain the expression for the position and velocity seen in equation \\eqref{eq:PSO_discrete}\n",
    "\n",
    "\\begin{equation}\n",
    "\\begin{aligned}\n",
    "    X_{k+1}^i &= X_k^i + V_k^ih, \\\\\n",
    "    V_{k+1}^i &= V_k^i -\\lambda(X^i_k-\\overline{X}_k)h - \\gamma V^i_kh+\\sigma_k\\sqrt{h}\\xi_{k+1}^i+dR_k,\n",
    "\\end{aligned}\n",
    "\\end{equation}\n",
    "note that $\\sigma_k = \\sigma(t_k)$, and\n"
   ]
  },
  {
   "cell_type": "code",
   "execution_count": 7,
   "metadata": {},
   "outputs": [],
   "source": [
    "T = 5 # Total time\n",
    "h = 0.01 # time step\n",
    "N = int(T/h) # number of time steps, 500\n",
    "N_particles = 100\n",
    "X = np.zeros((N_particles,2))"
   ]
  },
  {
   "cell_type": "code",
   "execution_count": null,
   "metadata": {},
   "outputs": [],
   "source": []
  },
  {
   "cell_type": "markdown",
   "metadata": {},
   "source": [
    "PSO is driven by SDE that contains four terms: an interaction term that looks like \n",
    "\\begin{equation}\n",
    "    -\\int_0^t\\lambda(X^i(s)-\\overline{X}(s))ds,\n",
    "\\end{equation} \n",
    "where $X^i(s)$ is the position of a particle, i, at time, t and $\\overline{X}(s)$ is a weighted average of all particles at a time t. The weighted average is defined as\n",
    "\\begin{equation}\n",
    "    \\overline{X}(t) = \\sum_{j=1}^N \\frac{X^j(t)e^{-\\alpha U(X^j(t))}}{\\sum_{l=1}^Ne^{-\\alpha U(X^l(t))}} = \\left[\\frac{e^{-\\alpha U(X^j(t))}}{\\sum_{l=1}^Ne^{-\\alpha U(X^l(t))}} \\equiv w^j\\right] = \\sum_{j=1}^N X^j(t)w^j,\n",
    "\\end{equation}"
   ]
  },
  {
   "cell_type": "code",
   "execution_count": 8,
   "metadata": {},
   "outputs": [],
   "source": [
    "def weighted_average(X,alpha,objective_function):\n",
    "    total_weight = np.sum(np.exp(-alpha*objective_function(X)))\n",
    "    w = np.exp(-alpha*objective_function(X))/total_weight\n",
    "    return np.sum(X*w)"
   ]
  },
  {
   "cell_type": "markdown",
   "metadata": {},
   "source": [
    "$dR_k$ is the reflective term in discrete time formulation.\n",
    "\n",
    "IF $\\hat{X}^i_{k+1} \\in G^C$:\n",
    "\\begin{equation}\n",
    "\\begin{aligned}\n",
    "X^i_{\\tau,k+1} &= X^i_k+\\tau V^i_k \\in \\partial G, [\\tau \\in (0,h)] \\\\\n",
    "\\hat{V}^i_k &= V^i_k -2\\braket{ n(X^i_{\\tau,k+1}),V^i_k} n(X^i_{\\tau,k+1}) \\\\\n",
    "X^i_{k+1} &= X^i_{\\tau,k+1}+(h-\\tau)\\hat{V}^i_k\n",
    "\\end{aligned}\n",
    "\\end{equation} \n",
    "\n",
    "ELSE:\n",
    "\\begin{equation}\n",
    "\\begin{aligned}\n",
    "X^i_{k+1} &= \\hat{X}^i_{k+1} \\\\\n",
    "\\hat{V}^i_k &= V^i_k\n",
    "\\end{aligned}\n",
    "\\end{equation}\n",
    "\n",
    "and the iterative update of the discrete velocity is\n",
    "\\begin{equation}\n",
    "    V^i_{k+1} = \\hat{V}^i_k -\\lambda(X^i_{k+1}-\\overline{X}_{k+1})h - \\gamma \\hat{V}^i_k h + \\sigma_k\\xi^i_{k+1}\\sqrt{h}.\n",
    "\\end{equation}\n",
    "\n",
    "For this function i need to return $-2\\braket{ n(X^i_{\\tau,k+1}),V^i_k} n(X^i_{\\tau,k+1})$, if $X_{new}$ went into $G^C$, and 0 otherwise"
   ]
  },
  {
   "cell_type": "code",
   "execution_count": null,
   "metadata": {},
   "outputs": [],
   "source": [
    "def Reflection_spherical(X_old,V, radius): # actually circular Centered at the origin\n",
    "    X_new = X_old + h*V\n",
    "    norms = np.linalg.norm(X_new,axis=1)\n",
    "    reflect_mask = norms > radius\n",
    "    if np.any(reflect_mask):\n",
    "        #First step is finding the intersection point of the line and the sphere, aka tau\n",
    "        a_1 = X_new[0]\n",
    "        a_2 = X_new[1]\n",
    "        b_1 = V[0]\n",
    "        b_2 = V[1]\n",
    "        # Must solve (b_1**2+b_2**2)tau**2 + 2*(a_1*b_1+a_2*b_2)*tau + (a_1**2+a_2**2-radius**2) = 0\n",
    "        p = 2*(a_1*b_1+a_2*b_2)/(b_1**2+b_2**2)\n",
    "        q = (a_1**2+a_2**2-radius**2)/(b_1**2+b_2**2)\n",
    "        tau = -p/2 + np.sqrt(p**2/4 - q)\n",
    "        X_tau = X_old + tau*V\n",
    "        outward_normal = X_tau/np.linalg.norm(X_tau) \n",
    "        #the outward normal is calculated as the normalized position vector of the intersection point X_tau_i.\n",
    "        #This works because for a circular (or spherical) boundary centered at the origin, \n",
    "        # the outward normal at any point on the boundary is simply the unit vector pointing from the origin to that point.\n",
    "        V_hat_i = V - 2*np.dot(outward_normal,V)*outward_normal\n",
    "        X_new = X_tau + (h-tau)*V_hat_i\n",
    "        return X_new, V_hat_i\n",
    "    else:\n",
    "        return X_new, V"
   ]
  },
  {
   "cell_type": "code",
   "execution_count": null,
   "metadata": {},
   "outputs": [],
   "source": [
    "import numpy as np\n",
    "\n",
    "def Reflection_spherical(X_old, V, radius, h):\n",
    "    N_particles = X_old.shape[0]\n",
    "    X_new = X_old + h * V\n",
    "    \n",
    "    # Calculate norms for all particles\n",
    "    norms = np.linalg.norm(X_new, axis=1)\n",
    "    \n",
    "    # Identify particles that need reflection\n",
    "    reflect_mask = norms > radius\n",
    "    \n",
    "    if np.any(reflect_mask):\n",
    "        a = X_old[reflect_mask]\n",
    "        b = V[reflect_mask]\n",
    "        \n",
    "        # Vectorized calculations\n",
    "        p = 2 * np.sum(a * b, axis=1) / np.sum(b**2, axis=1)\n",
    "        q = (np.sum(a**2, axis=1) - radius**2) / np.sum(b**2, axis=1)\n",
    "        tau = -p/2 + np.sqrt(p**2/4 - q)\n",
    "        \n",
    "        X_tau = a + tau[:, np.newaxis] * b\n",
    "        \n",
    "        # Calculate outward normals\n",
    "        outward_normal = X_tau / np.linalg.norm(X_tau, axis=1)[:, np.newaxis]\n",
    "        \n",
    "        # Calculate reflected velocities\n",
    "        V_hat = b - 2 * np.sum(b * outward_normal, axis=1)[:, np.newaxis] * outward_normal\n",
    "        \n",
    "        # Update positions for reflected particles\n",
    "        X_new[reflect_mask] = X_tau + (h - tau[:, np.newaxis]) * V_hat\n",
    "        V[reflect_mask] = V_hat\n",
    "    \n",
    "    return X_new, V\n"
   ]
  },
  {
   "cell_type": "code",
   "execution_count": null,
   "metadata": {},
   "outputs": [],
   "source": [
    "def PSO(X_old,weighted_average_X_old, V_old, Lambda, gamma, sigma):\n",
    "    # X: particle positions\n",
    "    # weighted_average_X: weighted average of particle positions\n",
    "    # V: particle velocities\n",
    "    # Lambda: interaction coefficient\n",
    "    # gamma: inertia coefficient\n",
    "    # sigma: exploration coefficient\n",
    "    # returns updated X, weighted_average_X, V\n",
    "    \n",
    "    # update velocity\n",
    "    X_hat_new, V_hat_new = Reflection_spherical(X_old)\n",
    "    X_new = X_old + V_old*h\n",
    "    V_new = V_old - Lambda*(X_old-weighted_average_X_old)*h-gamma*V_old*h+sigma*np.sqrt(h)*np.random.randn(N,1)\n",
    "    \n",
    "    # update position\n",
    "    X = X + V\n",
    "    \n",
    "    return X, V"
   ]
  }
 ],
 "metadata": {
  "kernelspec": {
   "display_name": "Python 3",
   "language": "python",
   "name": "python3"
  },
  "language_info": {
   "codemirror_mode": {
    "name": "ipython",
    "version": 3
   },
   "file_extension": ".py",
   "mimetype": "text/x-python",
   "name": "python",
   "nbconvert_exporter": "python",
   "pygments_lexer": "ipython3",
   "version": "3.11.6"
  }
 },
 "nbformat": 4,
 "nbformat_minor": 2
}
